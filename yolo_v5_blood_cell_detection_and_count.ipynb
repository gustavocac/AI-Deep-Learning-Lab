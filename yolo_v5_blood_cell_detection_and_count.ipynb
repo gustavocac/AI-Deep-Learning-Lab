{
  "nbformat": 4,
  "nbformat_minor": 0,
  "metadata": {
    "kernelspec": {
      "language": "python",
      "display_name": "Python 3",
      "name": "python3"
    },
    "language_info": {
      "pygments_lexer": "ipython3",
      "nbconvert_exporter": "python",
      "version": "3.6.4",
      "file_extension": ".py",
      "codemirror_mode": {
        "name": "ipython",
        "version": 3
      },
      "name": "python",
      "mimetype": "text/x-python"
    },
    "colab": {
      "name": "yolo-v5-blood-cell-detection-and-count.ipynb",
      "private_outputs": true,
      "provenance": [],
      "toc_visible": true,
      "include_colab_link": true
    },
    "accelerator": "GPU"
  },
  "cells": [
    {
      "cell_type": "markdown",
      "metadata": {
        "id": "view-in-github",
        "colab_type": "text"
      },
      "source": [
        "<a href=\"https://colab.research.google.com/github/gustavocac/AI-Deep-Learning-Lab/blob/master/yolo_v5_blood_cell_detection_and_count.ipynb\" target=\"_parent\"><img src=\"https://colab.research.google.com/assets/colab-badge.svg\" alt=\"Open In Colab\"/></a>"
      ]
    },
    {
      "cell_type": "markdown",
      "metadata": {
        "id": "WizA9gTqOMf5"
      },
      "source": [
        "# Before you use this notebook, to get more insights about Yolo-V5 and running it on custom datasets, please read this blog I've written - [Link](https://medium.com/towards-artificial-intelligence/yolo-v5-object-detection-on-a-custom-dataset-61d478bc08f9) and for the complete error-free Blood Cell Count dataset along with yolo-v5 codes available on my github - [Link](https://github.com/bala-codes/Yolo-V5_Object_Detection_Blood_Cell_Count_and_Detection)\n",
        "\n"
      ]
    },
    {
      "cell_type": "markdown",
      "metadata": {
        "id": "MQrcz3nKOMf5"
      },
      "source": [
        "# **Running Yolo-v5 is tricky in kaggle when compared to Google Colab, still I have managed to run in kaggle, feel free to look at my google colab implementation of yolo-v5 from the above links**"
      ]
    },
    {
      "cell_type": "code",
      "metadata": {
        "trusted": true,
        "id": "1mSjB3ayOMf5"
      },
      "source": [
        "!git clone 'https://github.com/bala-codes/Yolo-V5_Object_Detection_Blood_Cell_Count_and_Detection.git' # For dataset downloading\n",
        "!git clone  'https://github.com/ultralytics/yolov5.git' # For loading official yolo-v5"
      ],
      "execution_count": null,
      "outputs": []
    },
    {
      "cell_type": "code",
      "metadata": {
        "trusted": true,
        "id": "kl-mp8VcOMf5"
      },
      "source": [
        "import shutil\n",
        "import os, sys, random\n",
        "from glob import glob\n",
        "import pandas as pd\n",
        "from shutil import copyfile\n",
        "import pandas as pd\n",
        "import matplotlib.pyplot as plt\n",
        "%matplotlib inline\n",
        "from matplotlib import patches\n",
        "import numpy as np\n",
        "import os\n",
        "print('r')"
      ],
      "execution_count": null,
      "outputs": []
    },
    {
      "cell_type": "code",
      "metadata": {
        "trusted": true,
        "id": "hAXNYS1zOMf5"
      },
      "source": [
        "shutil.copyfile('/content/Yolo-V5_Object_Detection_Blood_Cell_Count_and_Detection/codes/bcc-kaggle.yaml', '/content/yolov5/bcc-kaggle.yaml')\n"
      ],
      "execution_count": null,
      "outputs": []
    },
    {
      "cell_type": "code",
      "metadata": {
        "trusted": true,
        "id": "xAbK45LXOMf5"
      },
      "source": [
        "!pip install --upgrade pip\n",
        "!pip install Cython\n",
        "!pip install matplotlib>=3.2.2\n",
        "!pip install numpy>=1.18.5\n",
        "!pip install opencv-python>=4.1.2\n",
        "!pip install pillow\n",
        "!pip install PyYAML>=5.3\n",
        "!pip install scipy>=1.4.1\n",
        "!pip install tensorboard>=2.2\n",
        "!pip install tqdm>=4.41.0\n",
        "!pip install torch===1.6.0 torchvision===0.7.0 -f https://download.pytorch.org/whl/torch_stable.html\n"
      ],
      "execution_count": null,
      "outputs": []
    },
    {
      "cell_type": "code",
      "metadata": {
        "trusted": true,
        "id": "_e98HflqOMf5"
      },
      "source": [
        "import torch, torchvision\n",
        "import torch.nn as nn\n",
        "import torch.nn.functional as F\n",
        "print(torch.__version__, torchvision.__version__)\n",
        "os.getcwd()"
      ],
      "execution_count": null,
      "outputs": []
    },
    {
      "cell_type": "markdown",
      "metadata": {
        "id": "e837deQROMf5"
      },
      "source": [
        "# To train the model, we need to pass some parameters\n",
        "\n",
        "**1. Path of train.py**\n",
        "\n",
        "**2. --img <img size (int)>**\n",
        "\n",
        "**3. --batch <batch size (int)>**\n",
        "\n",
        "**4. --epochs <No. of Epochs to train (int)> [Choose your preferred epochs]**\n",
        "\n",
        "**5. --data <Path of your dataset's yaml file>**\n",
        "\n",
        "**6. --cfg <path of your preferred yolo model's yaml file> [choose from yolos/m/l/x (small, medium, large, xlarge)]**\n",
        "\n",
        "**7. --name <\"name of your saved model after training\"> [Usually stored at \"runs/exp5_BCCM/weights/filename.pt\"]**"
      ]
    },
    {
      "cell_type": "code",
      "metadata": {
        "trusted": true,
        "id": "aaGL7qphOMf5"
      },
      "source": [
        "%%time\n",
        "# Here I have provided only one epoch, feel free to increment it !!!\n",
        "\n",
        "!python yolov5/train.py --img 640 --batch 8 --epochs 1 --data /content/yolov5/bcc-kaggle.yaml --cfg /content/Yolo-V5_Object_Detection_Blood_Cell_Count_and_Detection/Inference_files/models/yolov5s.yaml --name BCCM"
      ],
      "execution_count": null,
      "outputs": []
    },
    {
      "cell_type": "markdown",
      "metadata": {
        "id": "itPfv2qDOMf6"
      },
      "source": [
        "# Detection or Model Inference\n",
        "\n",
        "**1. Path of detect.py**\n",
        "\n",
        "**2. --source <\"Provide the path of single image or folder path for multiple image prediction\">**\n",
        "\n",
        "**3. --weights <\"Load the weights saved from training your model\">[Here I have loaded my saved model]**"
      ]
    },
    {
      "cell_type": "code",
      "metadata": {
        "trusted": true,
        "id": "MpOguBLhOMf6"
      },
      "source": [
        "# Detection or Run Inference on the model\n",
        "!python /content/Yolo-V5_Object_Detection_Blood_Cell_Count_and_Detection/Inference_files/detect.py --output /content/inference/output --source /content/Yolo-V5_Object_Detection_Blood_Cell_Count_and_Detection/dataset-preprocessed/bcc/images/valid/ --weights /content/Yolo-V5_Object_Detection_Blood_Cell_Count_and_Detection/Inference_files/best_BCCM.pt"
      ],
      "execution_count": null,
      "outputs": []
    },
    {
      "cell_type": "code",
      "metadata": {
        "trusted": true,
        "id": "dS2TmORcOMf6"
      },
      "source": [
        "disp_images = glob('/content/inference/output/*')\n",
        "fig=plt.figure(figsize=(20, 28))\n",
        "columns = 3\n",
        "rows = 5\n",
        "for i in range(1, columns*rows +1):\n",
        "    img = np.random.choice(disp_images)\n",
        "    img = plt.imread(img)\n",
        "    fig.add_subplot(rows, columns, i)\n",
        "    plt.imshow(img)\n",
        "plt.show()"
      ],
      "execution_count": null,
      "outputs": []
    }
  ]
}